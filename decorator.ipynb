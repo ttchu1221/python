{
 "cells": [
  {
   "cell_type": "code",
   "execution_count": 1,
   "metadata": {},
   "outputs": [
    {
     "name": "stdout",
     "output_type": "stream",
     "text": [
      "I am decorating function 4391710496\n"
     ]
    }
   ],
   "source": [
    "def dec(f):\n",
    "    print('I am decorating function', id(f))\n",
    "    return f\n",
    "def foo(x):\n",
    "    print(x)\n",
    "foo = dec(foo)"
   ]
  },
  {
   "cell_type": "code",
   "execution_count": 2,
   "metadata": {},
   "outputs": [
    {
     "name": "stdout",
     "output_type": "stream",
     "text": [
      "I am decorating function 4391708256\n"
     ]
    }
   ],
   "source": [
    "@dec\n",
    "def foo(x):\n",
    "    print(x)"
   ]
  },
  {
   "cell_type": "code",
   "execution_count": 4,
   "metadata": {},
   "outputs": [
    {
     "name": "stdout",
     "output_type": "stream",
     "text": [
      "start alarm signal.\n",
      "do something after timeout.\n",
      "run time err.\n"
     ]
    }
   ],
   "source": [
    "import signal\n",
    "import time\n",
    "\n",
    "\n",
    "def set_timeout(num, callback):\n",
    "    def wrap(func):\n",
    "        def handle(signum, frame):  # 收到信号 SIGALRM 后的回调函数，参数1是信号的数字，参数2是the interrupted stack frame.\n",
    "            raise RuntimeError\n",
    "\n",
    "        def to_do(*args, **kwargs):\n",
    "            try:\n",
    "                signal.signal(signal.SIGALRM, handle)  # 设置信号和回调函数\n",
    "                signal.alarm(num)  # 设置 num 秒的闹钟\n",
    "                print('start alarm signal.')\n",
    "                r = func(*args, **kwargs)\n",
    "                print('close alarm signal.')\n",
    "                signal.alarm(0)  # 关闭闹钟\n",
    "                return r\n",
    "            except RuntimeError as e:\n",
    "                callback()\n",
    "\n",
    "        return to_do\n",
    "\n",
    "    return wrap\n",
    "\n",
    "\n",
    "def after_timeout():  # 超时后的处理函数\n",
    "    print(\"do something after timeout.\")\n",
    "    raise RuntimeError\n",
    "\n",
    "\n",
    "@set_timeout(2, after_timeout)  # 限时 2 秒超时\n",
    "def connect():  # 要执行的函数\n",
    "    time.sleep(2.4)  # 函数执行时间，写大于2的值，可测试超时\n",
    "    return \"完成\"\n",
    "\n",
    "class Demo:\n",
    "    @set_timeout(2, after_timeout)\n",
    "    def conn(self):\n",
    "        time.sleep(3)\n",
    "        return \"ok\"\n",
    "b = Demo()\n",
    "try:\n",
    "    c = b.conn()\n",
    "    print(c)\n",
    "except RuntimeError as e:\n",
    "    print('run time err.')"
   ]
  },
  {
   "cell_type": "code",
   "execution_count": 5,
   "metadata": {},
   "outputs": [
    {
     "name": "stdout",
     "output_type": "stream",
     "text": [
      "start alarm signal.\n",
      "close alarm signal.\n",
      "ok\n"
     ]
    }
   ],
   "source": [
    "class Demo:\n",
    "    @set_timeout(2, after_timeout)\n",
    "    def conn(self):\n",
    "        time.sleep(1)\n",
    "        return \"ok\"\n",
    "    \n",
    "b = Demo()\n",
    "try:\n",
    "    c = b.conn()\n",
    "    print(c)\n",
    "except RuntimeError as e:\n",
    "    print('run time err.')"
   ]
  }
 ],
 "metadata": {
  "kernelspec": {
   "display_name": "base",
   "language": "python",
   "name": "python3"
  },
  "language_info": {
   "codemirror_mode": {
    "name": "ipython",
    "version": 3
   },
   "file_extension": ".py",
   "mimetype": "text/x-python",
   "name": "python",
   "nbconvert_exporter": "python",
   "pygments_lexer": "ipython3",
   "version": "3.12.4"
  }
 },
 "nbformat": 4,
 "nbformat_minor": 2
}
