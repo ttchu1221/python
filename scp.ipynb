{
 "cells": [
  {
   "cell_type": "code",
   "execution_count": 6,
   "metadata": {},
   "outputs": [
    {
     "data": {
      "image/png": "[encoded data removed]",
      "text/plain": [
       "<Figure size 1200x75 with 1 Axes>"
      ]
     },
     "metadata": {},
     "output_type": "display_data"
    }
   ],
   "source": [
    "import numpy as np\n",
    "import matplotlib.pyplot as plt\n",
    "from mpl_toolkits.mplot3d import Axes3D  # 导入 3D 绘图工具\n",
    "\n",
    "# 生成网格\n",
    "x, y = np.mgrid[-np.pi / 2:np.pi / 2:20j, -np.pi / 2:np.pi / 2:20j]  # 增加步长以获得更多点\n",
    "z = np.cos(np.sqrt(x ** 2 + y ** 2))\n",
    "\n",
    "# 创建图形\n",
    "fig = plt.figure(figsize=(12, 0.75))\n",
    "ax = fig.add_subplot(111, projection='3d')  # 使用 add_subplot 创建 3D 轴\n",
    "\n",
    "# 绘制散点图\n",
    "ax.scatter(x, y, z, c=z, cmap='viridis')  # 使用颜色映射\n",
    "\n",
    "# 保存图像\n",
    "fig.savefig(\"mplot3d.jpg\")\n",
    "\n",
    "# 显示图形\n",
    "plt.show()"
   ]
  }
 ],
 "metadata": {
  "kernelspec": {
   "display_name": "base",
   "language": "python",
   "name": "python3"
  },
  "language_info": {
   "codemirror_mode": {
    "name": "ipython",
    "version": 3
   },
   "file_extension": ".py",
   "mimetype": "text/x-python",
   "name": "python",
   "nbconvert_exporter": "python",
   "pygments_lexer": "ipython3",
   "version": "3.12.4"
  }
 },
 "nbformat": 4,
 "nbformat_minor": 2
}
