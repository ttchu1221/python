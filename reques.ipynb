{
 "cells": [
  {
   "cell_type": "code",
   "execution_count": null,
   "metadata": {},
   "outputs": [],
   "source": []
  },
  {
   "cell_type": "code",
   "execution_count": 5,
   "metadata": {},
   "outputs": [
    {
     "name": "stderr",
     "output_type": "stream",
     "text": [
      "[  DEBUG 20241106 01:38:05 1096892130:34] hi\n",
      "[  DEBUG 20241106 01:38:05 1096892130:34] hi\n",
      "[  DEBUG 20241106 01:38:05 1096892130:34] hi\n",
      "[   INFO 20241106 01:38:05 1096892130:35] hi\n",
      "[   INFO 20241106 01:38:05 1096892130:35] hi\n",
      "[   INFO 20241106 01:38:05 1096892130:35] hi\n",
      "[  ERROR 20241106 01:38:05 1096892130:36] hi\n",
      "[  ERROR 20241106 01:38:05 1096892130:36] hi\n",
      "[  ERROR 20241106 01:38:05 1096892130:36] hi\n",
      "[WARNING 20241106 01:38:05 1096892130:37] hi\n",
      "[WARNING 20241106 01:38:05 1096892130:37] hi\n",
      "[WARNING 20241106 01:38:05 1096892130:37] hi\n",
      "[   INFO 20241106 01:38:05 1096892130:40] hi\n",
      "[   INFO 20241106 01:38:05 1096892130:40] hi\n",
      "[   INFO 20241106 01:38:05 1096892130:40] hi\n",
      "[  ERROR 20241106 01:38:05 1096892130:41] hi\n",
      "[  ERROR 20241106 01:38:05 1096892130:41] hi\n",
      "[  ERROR 20241106 01:38:05 1096892130:41] hi\n",
      "[WARNING 20241106 01:38:05 1096892130:42] hi\n",
      "[WARNING 20241106 01:38:05 1096892130:42] hi\n",
      "[WARNING 20241106 01:38:05 1096892130:42] hi\n"
     ]
    }
   ],
   "source": [
    "import logging\n",
    "\n",
    "\n",
    "def get_logger(name, log_file=None, log_level='DEBUG'):\n",
    "    \"\"\"\n",
    "    logger\n",
    "    :param name: 模块名称\n",
    "    :param log_file: 日志文件，如无则输出到标准输出\n",
    "    :param log_level: 日志级别\n",
    "    :return:\n",
    "    \"\"\"\n",
    "    logger = logging.getLogger(name)\n",
    "    logger.setLevel(log_level.upper())\n",
    "    formatter = logging.Formatter('[%(levelname)7s %(asctime)s %(module)s:%(lineno)d] %(message)s',\n",
    "                                  datefmt='%Y%m%d %I:%M:%S')\n",
    "    if log_file:\n",
    "        f_handle = logging.FileHandler(log_file)\n",
    "        f_handle.setFormatter(formatter)\n",
    "        logger.addHandler(f_handle)\n",
    "    handle = logging.StreamHandler()\n",
    "    handle.setFormatter(formatter)\n",
    "    logger.addHandler(handle)\n",
    "    return logger\n",
    "\n",
    "\n",
    "logger = get_logger(__name__, log_file=None, log_level='DEBUG')\n",
    "\n",
    "\n",
    "def set_log_level(log_level='INFO'):\n",
    "    logger.setLevel(log_level.upper())\n",
    "\n",
    "\n",
    "if __name__ == '__main__':\n",
    "    logger.debug('hi')\n",
    "    logger.info('hi')\n",
    "    logger.error('hi')\n",
    "    logger.warning('hi')\n",
    "    set_log_level('info')\n",
    "    logger.debug('hi')  # ignore\n",
    "    logger.info('hi')\n",
    "    logger.error('hi')\n",
    "    logger.warning('hi')"
   ]
  }
 ],
 "metadata": {
  "kernelspec": {
   "display_name": "base",
   "language": "python",
   "name": "python3"
  },
  "language_info": {
   "codemirror_mode": {
    "name": "ipython",
    "version": 3
   },
   "file_extension": ".py",
   "mimetype": "text/x-python",
   "name": "python",
   "nbconvert_exporter": "python",
   "pygments_lexer": "ipython3",
   "version": "3.12.4"
  }
 },
 "nbformat": 4,
 "nbformat_minor": 2
}
